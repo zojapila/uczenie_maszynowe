{
 "cells": [
  {
   "attachments": {},
   "cell_type": "markdown",
   "metadata": {},
   "source": [
    "Zofia Jankowska"
   ]
  },
  {
   "attachments": {},
   "cell_type": "markdown",
   "metadata": {},
   "source": [
    "##### Anomaly detection"
   ]
  },
  {
   "cell_type": "code",
   "execution_count": 2,
   "metadata": {},
   "outputs": [],
   "source": [
    "import numpy as np  \n",
    "import pandas as pd  \n",
    "import matplotlib.pyplot as plt  \n",
    "from scipy.io import loadmat  \n",
    " \n",
    " \n",
    "data = loadmat('ex8data1.mat')  \n",
    "X = data['X']   "
   ]
  },
  {
   "cell_type": "code",
   "execution_count": 3,
   "metadata": {},
   "outputs": [
    {
     "data": {
      "text/plain": [
       "(307, 2)"
      ]
     },
     "execution_count": 3,
     "metadata": {},
     "output_type": "execute_result"
    }
   ],
   "source": [
    "X.shape"
   ]
  },
  {
   "cell_type": "code",
   "execution_count": 4,
   "metadata": {},
   "outputs": [
    {
     "data": {
      "image/png": "[encoded data removed]",
      "text/plain": [
       "<Figure size 432x288 with 1 Axes>"
      ]
     },
     "metadata": {
      "needs_background": "light"
     },
     "output_type": "display_data"
    }
   ],
   "source": [
    "plt.scatter(X[:,0], X[:,1])\n",
    "plt.grid()\n",
    "plt.xlabel('latency')\n",
    "plt.ylabel('throughput')\n",
    "plt.show()"
   ]
  },
  {
   "cell_type": "code",
   "execution_count": 5,
   "metadata": {},
   "outputs": [
    {
     "data": {
      "image/png": "[encoded data removed]",
      "text/plain": [
       "<Figure size 432x288 with 2 Axes>"
      ]
     },
     "metadata": {
      "needs_background": "light"
     },
     "output_type": "display_data"
    }
   ],
   "source": [
    "plt.figure()\n",
    "plt.subplot(1,2,1)\n",
    "plt.hist(X[:,0], bins = 15)\n",
    "plt.title('hist 1')\n",
    "\n",
    "plt.subplot(1,2,2)\n",
    "plt.hist(X[:,1], bins = 15, color=\"red\")\n",
    "plt.title('hist 2')\n",
    "plt.show()"
   ]
  },
  {
   "attachments": {},
   "cell_type": "markdown",
   "metadata": {},
   "source": [
    "##### Gaussian distribution"
   ]
  },
  {
   "cell_type": "code",
   "execution_count": 6,
   "metadata": {},
   "outputs": [
    {
     "data": {
      "text/plain": [
       "([[14.112225783945592], [14.99771050813621]],\n",
       " [[1.8326314134945172], [1.7097453308287784]])"
      ]
     },
     "execution_count": 6,
     "metadata": {},
     "output_type": "execute_result"
    }
   ],
   "source": [
    "def estimate_gaussian(X):  \n",
    "    mu = np.zeros((X.shape[1], 1))\n",
    "    sigma2 = np.zeros((X.shape[1], 1))\n",
    "    \n",
    "    mu = np.mean(X.T, axis=1)\n",
    "    mu = mu.reshape(mu.shape[0], -1)\n",
    "    sigma2 = np.var(X.T, axis=1)\n",
    "    sigma2 = sigma2.reshape(sigma2.shape[0], -1)\n",
    "\n",
    "    return mu.tolist(), sigma2.tolist()\n",
    "\n",
    "\n",
    "mu, sigma = estimate_gaussian(X)\n",
    "mu, sigma"
   ]
  },
  {
   "cell_type": "code",
   "execution_count": 7,
   "metadata": {},
   "outputs": [
    {
     "data": {
      "text/plain": [
       "(307, 2)"
      ]
     },
     "execution_count": 7,
     "metadata": {},
     "output_type": "execute_result"
    }
   ],
   "source": [
    "Xval = data[\"Xval\"]\n",
    "yval = data[\"yval\"]\n",
    "\n",
    "Xval.shape"
   ]
  },
  {
   "cell_type": "code",
   "execution_count": 8,
   "metadata": {},
   "outputs": [
    {
     "data": {
      "text/plain": [
       "(307, 1)"
      ]
     },
     "execution_count": 8,
     "metadata": {},
     "output_type": "execute_result"
    }
   ],
   "source": [
    "yval.shape"
   ]
  },
  {
   "cell_type": "code",
   "execution_count": 9,
   "metadata": {},
   "outputs": [],
   "source": [
    "from scipy import stats\n",
    "\n",
    "p = np.zeros((X.shape[0], X.shape[1]))\n",
    "pval = np.zeros((Xval.shape[0], Xval.shape[1]))\n",
    "p[:, 0] = stats.norm.pdf(X[:, 0], mu[0], np.sqrt(sigma[0]))\n",
    "p[:, 1] = stats.norm.pdf(X[:, 1], mu[1], np.sqrt(sigma[1]))\n",
    "pval[:, 0] = stats.norm.pdf(Xval[:, 0], mu[0], np.sqrt(sigma[0]))\n",
    "pval[:, 1] = stats.norm.pdf(Xval[:, 1], mu[1], np.sqrt(sigma[1]))"
   ]
  },
  {
   "attachments": {},
   "cell_type": "markdown",
   "metadata": {},
   "source": [
    "#### Selecting the treshold"
   ]
  },
  {
   "cell_type": "code",
   "execution_count": 10,
   "metadata": {},
   "outputs": [
    {
     "data": {
      "text/plain": [
       "(0.0006108136634440508, 0.8750000000000001)"
      ]
     },
     "execution_count": 10,
     "metadata": {},
     "output_type": "execute_result"
    }
   ],
   "source": [
    "from sklearn.metrics import f1_score \n",
    "\n",
    "def select_threshold(pval, yval):\n",
    "    thresholds = np.linspace(pval.min(), pval.max(), 1000)\n",
    "    best_f1 = 0\n",
    "\n",
    "    for th in thresholds:\n",
    "        ypred = (pval[:, 0] < th) | (pval[:, 1] < th)\n",
    "        new = f1_score(yval, ypred.astype(int))\n",
    "        if new > best_f1:\n",
    "            best_f1 = new\n",
    "            best_epsilon = th\n",
    "    return best_epsilon, best_f1\n",
    "\n",
    "best_epsilon, best_f1 = select_threshold(pval, yval)\n",
    "best_epsilon, best_f1"
   ]
  },
  {
   "attachments": {},
   "cell_type": "markdown",
   "metadata": {},
   "source": [
    "#### Anomaly detecion result"
   ]
  },
  {
   "cell_type": "code",
   "execution_count": 11,
   "metadata": {},
   "outputs": [],
   "source": [
    "indexes = np.where((p[:, 0] < best_epsilon) | (p[:, 1] < best_epsilon))\n",
    "anomalies = [X[i] for i in indexes][0]"
   ]
  },
  {
   "cell_type": "code",
   "execution_count": 14,
   "metadata": {},
   "outputs": [
    {
     "data": {
      "image/png": "[encoded data removed]",
      "text/plain": [
       "<Figure size 432x288 with 1 Axes>"
      ]
     },
     "metadata": {
      "needs_background": "light"
     },
     "output_type": "display_data"
    }
   ],
   "source": [
    "plt.figure()\n",
    "plt.scatter(X[:,0], X[:,1])\n",
    "plt.scatter(anomalies[:,0], anomalies[:,1], color=\"orange\")\n",
    "plt.grid()\n",
    "plt.legend([\"Regular Values\", \"Anomalies\"])\n",
    "plt.show()"
   ]
  }
 ],
 "metadata": {
  "kernelspec": {
   "display_name": "Python 3",
   "language": "python",
   "name": "python3"
  },
  "language_info": {
   "codemirror_mode": {
    "name": "ipython",
    "version": 3
   },
   "file_extension": ".py",
   "mimetype": "text/x-python",
   "name": "python",
   "nbconvert_exporter": "python",
   "pygments_lexer": "ipython3",
   "version": "3.10.7"
  },
  "orig_nbformat": 4
 },
 "nbformat": 4,
 "nbformat_minor": 2
}
