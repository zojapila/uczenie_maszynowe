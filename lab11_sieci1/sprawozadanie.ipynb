{
 "cells": [
  {
   "attachments": {},
   "cell_type": "markdown",
   "metadata": {},
   "source": [
    "Zofia Jankowska"
   ]
  },
  {
   "cell_type": "code",
   "execution_count": 1,
   "metadata": {},
   "outputs": [],
   "source": [
    "import numpy as np\n",
    "from keras.datasets import mnist\n",
    "import keras\n",
    "from keras import layers\n",
    "from sklearn.metrics import classification_report, confusion_matrix"
   ]
  },
  {
   "cell_type": "code",
   "execution_count": 2,
   "metadata": {},
   "outputs": [],
   "source": [
    "training_set, test_set = mnist.load_data()"
   ]
  },
  {
   "cell_type": "code",
   "execution_count": 3,
   "metadata": {},
   "outputs": [],
   "source": [
    "X_train, y_train = training_set\n",
    "X_test, y_test = test_set"
   ]
  },
  {
   "cell_type": "code",
   "execution_count": 4,
   "metadata": {},
   "outputs": [
    {
     "name": "stdout",
     "output_type": "stream",
     "text": [
      "(60000, 28, 28)\n"
     ]
    }
   ],
   "source": [
    "print(X_train.shape)"
   ]
  },
  {
   "cell_type": "code",
   "execution_count": 5,
   "metadata": {},
   "outputs": [],
   "source": [
    "X_train = np.expand_dims(X_train, -1)\n",
    "X_test = np.expand_dims(X_test, -1)"
   ]
  },
  {
   "cell_type": "code",
   "execution_count": 6,
   "metadata": {},
   "outputs": [
    {
     "name": "stdout",
     "output_type": "stream",
     "text": [
      "(60000, 28, 28, 1)\n"
     ]
    }
   ],
   "source": [
    "print(X_train.shape)"
   ]
  },
  {
   "cell_type": "code",
   "execution_count": 7,
   "metadata": {},
   "outputs": [],
   "source": [
    "X_train = X_train.astype(float) / 255.0  \n",
    "X_test = X_test.astype(float) / 255.0"
   ]
  },
  {
   "attachments": {},
   "cell_type": "markdown",
   "metadata": {},
   "source": [
    "Przygotowanie eksperymantu"
   ]
  },
  {
   "cell_type": "code",
   "execution_count": 8,
   "metadata": {},
   "outputs": [],
   "source": [
    "num_classes = 10\n",
    "input_shape = (28, 28, 1)\n",
    "batch_size = 128\n",
    "epochs = 30"
   ]
  },
  {
   "cell_type": "code",
   "execution_count": 9,
   "metadata": {},
   "outputs": [],
   "source": [
    "model = keras.Sequential(\n",
    "        [\n",
    "            keras.Input(shape=input_shape),\n",
    "            keras.layers.Flatten(),\n",
    "            layers.Dense(num_classes, activation=\"softmax\")\n",
    "        ]\n",
    "    )"
   ]
  },
  {
   "cell_type": "code",
   "execution_count": 10,
   "metadata": {},
   "outputs": [
    {
     "name": "stdout",
     "output_type": "stream",
     "text": [
      "Model: \"sequential\"\n",
      "_________________________________________________________________\n",
      " Layer (type)                Output Shape              Param #   \n",
      "=================================================================\n",
      " flatten (Flatten)           (None, 784)               0         \n",
      "                                                                 \n",
      " dense (Dense)               (None, 10)                7850      \n",
      "                                                                 \n",
      "=================================================================\n",
      "Total params: 7,850\n",
      "Trainable params: 7,850\n",
      "Non-trainable params: 0\n",
      "_________________________________________________________________\n"
     ]
    }
   ],
   "source": [
    "model.summary()"
   ]
  },
  {
   "cell_type": "code",
   "execution_count": 11,
   "metadata": {},
   "outputs": [],
   "source": [
    "model.compile(loss=\"sparse_categorical_crossentropy\", optimizer=\"adam\", metrics=[\"accuracy\"])\n"
   ]
  },
  {
   "attachments": {},
   "cell_type": "markdown",
   "metadata": {},
   "source": [
    "Uczenie modelu"
   ]
  },
  {
   "cell_type": "code",
   "execution_count": 12,
   "metadata": {},
   "outputs": [
    {
     "name": "stdout",
     "output_type": "stream",
     "text": [
      "Epoch 1/30\n",
      "375/375 [==============================] - 2s 4ms/step - loss: 0.7337 - accuracy: 0.8188 - val_loss: 0.4054 - val_accuracy: 0.8957\n",
      "Epoch 2/30\n",
      "375/375 [==============================] - 1s 3ms/step - loss: 0.3877 - accuracy: 0.8971 - val_loss: 0.3335 - val_accuracy: 0.9092\n",
      "Epoch 3/30\n",
      "375/375 [==============================] - 1s 3ms/step - loss: 0.3370 - accuracy: 0.9079 - val_loss: 0.3085 - val_accuracy: 0.9168\n",
      "Epoch 4/30\n",
      "375/375 [==============================] - 1s 3ms/step - loss: 0.3136 - accuracy: 0.9136 - val_loss: 0.2940 - val_accuracy: 0.9192\n",
      "Epoch 5/30\n",
      "375/375 [==============================] - 1s 3ms/step - loss: 0.2998 - accuracy: 0.9169 - val_loss: 0.2836 - val_accuracy: 0.9225\n",
      "Epoch 6/30\n",
      "375/375 [==============================] - 1s 3ms/step - loss: 0.2901 - accuracy: 0.9190 - val_loss: 0.2784 - val_accuracy: 0.9222\n",
      "Epoch 7/30\n",
      "375/375 [==============================] - 1s 3ms/step - loss: 0.2831 - accuracy: 0.9208 - val_loss: 0.2753 - val_accuracy: 0.9227\n",
      "Epoch 8/30\n",
      "375/375 [==============================] - 1s 2ms/step - loss: 0.2778 - accuracy: 0.9224 - val_loss: 0.2709 - val_accuracy: 0.9247\n",
      "Epoch 9/30\n",
      "375/375 [==============================] - 1s 3ms/step - loss: 0.2732 - accuracy: 0.9237 - val_loss: 0.2682 - val_accuracy: 0.9268\n",
      "Epoch 10/30\n",
      "375/375 [==============================] - 1s 3ms/step - loss: 0.2696 - accuracy: 0.9247 - val_loss: 0.2660 - val_accuracy: 0.9275\n",
      "Epoch 11/30\n",
      "375/375 [==============================] - 1s 2ms/step - loss: 0.2662 - accuracy: 0.9255 - val_loss: 0.2672 - val_accuracy: 0.9260\n",
      "Epoch 12/30\n",
      "375/375 [==============================] - 1s 3ms/step - loss: 0.2639 - accuracy: 0.9262 - val_loss: 0.2639 - val_accuracy: 0.9289\n",
      "Epoch 13/30\n",
      "375/375 [==============================] - 1s 2ms/step - loss: 0.2618 - accuracy: 0.9268 - val_loss: 0.2630 - val_accuracy: 0.9289\n",
      "Epoch 14/30\n",
      "375/375 [==============================] - 1s 3ms/step - loss: 0.2596 - accuracy: 0.9279 - val_loss: 0.2616 - val_accuracy: 0.9288\n",
      "Epoch 15/30\n",
      "375/375 [==============================] - 1s 2ms/step - loss: 0.2573 - accuracy: 0.9277 - val_loss: 0.2615 - val_accuracy: 0.9284\n",
      "Epoch 16/30\n",
      "375/375 [==============================] - 1s 2ms/step - loss: 0.2560 - accuracy: 0.9287 - val_loss: 0.2608 - val_accuracy: 0.9290\n",
      "Epoch 17/30\n",
      "375/375 [==============================] - 1s 4ms/step - loss: 0.2543 - accuracy: 0.9291 - val_loss: 0.2615 - val_accuracy: 0.9285\n",
      "Epoch 18/30\n",
      "375/375 [==============================] - 1s 3ms/step - loss: 0.2528 - accuracy: 0.9297 - val_loss: 0.2607 - val_accuracy: 0.9300\n",
      "Epoch 19/30\n",
      "375/375 [==============================] - 1s 2ms/step - loss: 0.2513 - accuracy: 0.9299 - val_loss: 0.2600 - val_accuracy: 0.9302\n",
      "Epoch 20/30\n",
      "375/375 [==============================] - 1s 2ms/step - loss: 0.2503 - accuracy: 0.9304 - val_loss: 0.2608 - val_accuracy: 0.9293\n",
      "Epoch 21/30\n",
      "375/375 [==============================] - 1s 2ms/step - loss: 0.2492 - accuracy: 0.9302 - val_loss: 0.2603 - val_accuracy: 0.9305\n",
      "Epoch 22/30\n",
      "375/375 [==============================] - 1s 3ms/step - loss: 0.2480 - accuracy: 0.9311 - val_loss: 0.2595 - val_accuracy: 0.9295\n",
      "Epoch 23/30\n",
      "375/375 [==============================] - 1s 4ms/step - loss: 0.2469 - accuracy: 0.9315 - val_loss: 0.2603 - val_accuracy: 0.9297\n",
      "Epoch 24/30\n",
      "375/375 [==============================] - 1s 3ms/step - loss: 0.2460 - accuracy: 0.9316 - val_loss: 0.2585 - val_accuracy: 0.9314\n",
      "Epoch 25/30\n",
      "375/375 [==============================] - 1s 2ms/step - loss: 0.2452 - accuracy: 0.9322 - val_loss: 0.2599 - val_accuracy: 0.9306\n",
      "Epoch 26/30\n",
      "375/375 [==============================] - 1s 2ms/step - loss: 0.2441 - accuracy: 0.9319 - val_loss: 0.2626 - val_accuracy: 0.9294\n",
      "Epoch 27/30\n",
      "375/375 [==============================] - 1s 2ms/step - loss: 0.2439 - accuracy: 0.9321 - val_loss: 0.2594 - val_accuracy: 0.9307\n",
      "Epoch 28/30\n",
      "375/375 [==============================] - 1s 3ms/step - loss: 0.2428 - accuracy: 0.9330 - val_loss: 0.2608 - val_accuracy: 0.9301\n",
      "Epoch 29/30\n",
      "375/375 [==============================] - 1s 2ms/step - loss: 0.2421 - accuracy: 0.9324 - val_loss: 0.2596 - val_accuracy: 0.9294\n",
      "Epoch 30/30\n",
      "375/375 [==============================] - 1s 2ms/step - loss: 0.2414 - accuracy: 0.9332 - val_loss: 0.2595 - val_accuracy: 0.9296\n"
     ]
    },
    {
     "data": {
      "text/plain": [
       "<keras.callbacks.History at 0x16d801819c0>"
      ]
     },
     "execution_count": 12,
     "metadata": {},
     "output_type": "execute_result"
    }
   ],
   "source": [
    "model.fit(X_train, y_train, batch_size=batch_size, epochs=epochs, validation_split=0.2)"
   ]
  },
  {
   "attachments": {},
   "cell_type": "markdown",
   "metadata": {},
   "source": [
    "Ocena modelu"
   ]
  },
  {
   "cell_type": "code",
   "execution_count": 13,
   "metadata": {},
   "outputs": [],
   "source": [
    "from sklearn.metrics import classification_report, confusion_matrix"
   ]
  },
  {
   "cell_type": "code",
   "execution_count": 14,
   "metadata": {},
   "outputs": [
    {
     "name": "stdout",
     "output_type": "stream",
     "text": [
      "313/313 [==============================] - 1s 2ms/step\n"
     ]
    }
   ],
   "source": [
    "y_probab = model.predict(X_test)\n",
    "y_pred = np.argmax(y_probab, axis=1)"
   ]
  },
  {
   "cell_type": "code",
   "execution_count": 15,
   "metadata": {},
   "outputs": [
    {
     "name": "stdout",
     "output_type": "stream",
     "text": [
      "              precision    recall  f1-score   support\n",
      "\n",
      "           0       0.96      0.98      0.97       980\n",
      "           1       0.97      0.98      0.98      1135\n",
      "           2       0.92      0.91      0.91      1032\n",
      "           3       0.92      0.91      0.91      1010\n",
      "           4       0.95      0.92      0.93       982\n",
      "           5       0.91      0.88      0.89       892\n",
      "           6       0.93      0.96      0.94       958\n",
      "           7       0.93      0.93      0.93      1028\n",
      "           8       0.88      0.89      0.89       974\n",
      "           9       0.90      0.92      0.91      1009\n",
      "\n",
      "    accuracy                           0.93     10000\n",
      "   macro avg       0.93      0.93      0.93     10000\n",
      "weighted avg       0.93      0.93      0.93     10000\n",
      "\n",
      "[[ 959    0    1    2    0    6    9    2    1    0]\n",
      " [   0 1115    3    2    0    1    4    2    8    0]\n",
      " [   3   10  935   13    6    4   13    8   36    4]\n",
      " [   3    0   20  915    0   25    3   12   23    9]\n",
      " [   1    2    8    1  905    0   12    4    9   40]\n",
      " [   7    2    4   29    7  782   15    9   30    7]\n",
      " [   9    3    9    1    7   11  915    1    2    0]\n",
      " [   1    6   22    7    4    0    0  955    2   31]\n",
      " [   7    7    9   19    7   23   10   12  869   11]\n",
      " [  11    7    1    8   19    8    0   22    5  928]]\n"
     ]
    }
   ],
   "source": [
    "print(classification_report(y_test, y_pred))\n",
    "print(confusion_matrix(y_test, y_pred))"
   ]
  },
  {
   "attachments": {},
   "cell_type": "markdown",
   "metadata": {},
   "source": [
    "Sieć MLP"
   ]
  },
  {
   "cell_type": "code",
   "execution_count": 16,
   "metadata": {},
   "outputs": [],
   "source": [
    "model2 = keras.Sequential(\n",
    "        [\n",
    "            keras.Input(shape=input_shape),\n",
    "            keras.layers.Flatten(),\n",
    "            layers.Dense(64, activation=\"tanh\"),\n",
    "            layers.Dense(128, activation=\"tanh\"),\n",
    "            layers.Dense(num_classes, activation=\"softmax\")\n",
    "        ]\n",
    "    )"
   ]
  },
  {
   "cell_type": "code",
   "execution_count": 17,
   "metadata": {},
   "outputs": [
    {
     "name": "stdout",
     "output_type": "stream",
     "text": [
      "Model: \"sequential_1\"\n",
      "_________________________________________________________________\n",
      " Layer (type)                Output Shape              Param #   \n",
      "=================================================================\n",
      " flatten_1 (Flatten)         (None, 784)               0         \n",
      "                                                                 \n",
      " dense_1 (Dense)             (None, 64)                50240     \n",
      "                                                                 \n",
      " dense_2 (Dense)             (None, 128)               8320      \n",
      "                                                                 \n",
      " dense_3 (Dense)             (None, 10)                1290      \n",
      "                                                                 \n",
      "=================================================================\n",
      "Total params: 59,850\n",
      "Trainable params: 59,850\n",
      "Non-trainable params: 0\n",
      "_________________________________________________________________\n"
     ]
    }
   ],
   "source": [
    "model2.summary()"
   ]
  },
  {
   "cell_type": "code",
   "execution_count": 18,
   "metadata": {},
   "outputs": [
    {
     "name": "stdout",
     "output_type": "stream",
     "text": [
      "Epoch 1/30\n",
      "375/375 [==============================] - 2s 4ms/step - loss: 0.4060 - accuracy: 0.8847 - val_loss: 0.2300 - val_accuracy: 0.9316\n",
      "Epoch 2/30\n",
      "375/375 [==============================] - 2s 6ms/step - loss: 0.1925 - accuracy: 0.9437 - val_loss: 0.1680 - val_accuracy: 0.9513\n",
      "Epoch 3/30\n",
      "375/375 [==============================] - 2s 7ms/step - loss: 0.1395 - accuracy: 0.9590 - val_loss: 0.1411 - val_accuracy: 0.9576\n",
      "Epoch 4/30\n",
      "375/375 [==============================] - 2s 6ms/step - loss: 0.1094 - accuracy: 0.9672 - val_loss: 0.1231 - val_accuracy: 0.9632\n",
      "Epoch 5/30\n",
      "375/375 [==============================] - 2s 5ms/step - loss: 0.0888 - accuracy: 0.9734 - val_loss: 0.1183 - val_accuracy: 0.9638\n",
      "Epoch 6/30\n",
      "375/375 [==============================] - 2s 6ms/step - loss: 0.0710 - accuracy: 0.9785 - val_loss: 0.1099 - val_accuracy: 0.9655\n",
      "Epoch 7/30\n",
      "375/375 [==============================] - 2s 6ms/step - loss: 0.0602 - accuracy: 0.9817 - val_loss: 0.1029 - val_accuracy: 0.9697\n",
      "Epoch 8/30\n",
      "375/375 [==============================] - 1s 4ms/step - loss: 0.0488 - accuracy: 0.9858 - val_loss: 0.0964 - val_accuracy: 0.9698\n",
      "Epoch 9/30\n",
      "375/375 [==============================] - 1s 3ms/step - loss: 0.0406 - accuracy: 0.9877 - val_loss: 0.0916 - val_accuracy: 0.9729\n",
      "Epoch 10/30\n",
      "375/375 [==============================] - 2s 6ms/step - loss: 0.0344 - accuracy: 0.9899 - val_loss: 0.0999 - val_accuracy: 0.9700\n",
      "Epoch 11/30\n",
      "375/375 [==============================] - 2s 5ms/step - loss: 0.0287 - accuracy: 0.9916 - val_loss: 0.0986 - val_accuracy: 0.9719\n",
      "Epoch 12/30\n",
      "375/375 [==============================] - 2s 5ms/step - loss: 0.0233 - accuracy: 0.9932 - val_loss: 0.0953 - val_accuracy: 0.9724\n",
      "Epoch 13/30\n",
      "375/375 [==============================] - 2s 6ms/step - loss: 0.0201 - accuracy: 0.9945 - val_loss: 0.1074 - val_accuracy: 0.9687\n",
      "Epoch 14/30\n",
      "375/375 [==============================] - 2s 5ms/step - loss: 0.0153 - accuracy: 0.9965 - val_loss: 0.1006 - val_accuracy: 0.9730\n",
      "Epoch 15/30\n",
      "375/375 [==============================] - 2s 5ms/step - loss: 0.0134 - accuracy: 0.9966 - val_loss: 0.1071 - val_accuracy: 0.9719\n",
      "Epoch 16/30\n",
      "375/375 [==============================] - 2s 6ms/step - loss: 0.0114 - accuracy: 0.9973 - val_loss: 0.1205 - val_accuracy: 0.9692\n",
      "Epoch 17/30\n",
      "375/375 [==============================] - 1s 3ms/step - loss: 0.0102 - accuracy: 0.9973 - val_loss: 0.1117 - val_accuracy: 0.9724\n",
      "Epoch 18/30\n",
      "375/375 [==============================] - 2s 4ms/step - loss: 0.0097 - accuracy: 0.9973 - val_loss: 0.1188 - val_accuracy: 0.9702\n",
      "Epoch 19/30\n",
      "375/375 [==============================] - 1s 3ms/step - loss: 0.0078 - accuracy: 0.9979 - val_loss: 0.1153 - val_accuracy: 0.9714\n",
      "Epoch 20/30\n",
      "375/375 [==============================] - 2s 4ms/step - loss: 0.0061 - accuracy: 0.9987 - val_loss: 0.1151 - val_accuracy: 0.9728\n",
      "Epoch 21/30\n",
      "375/375 [==============================] - 2s 6ms/step - loss: 0.0038 - accuracy: 0.9995 - val_loss: 0.1142 - val_accuracy: 0.9743\n",
      "Epoch 22/30\n",
      "375/375 [==============================] - 2s 6ms/step - loss: 0.0032 - accuracy: 0.9996 - val_loss: 0.1254 - val_accuracy: 0.9724\n",
      "Epoch 23/30\n",
      "375/375 [==============================] - 2s 4ms/step - loss: 0.0043 - accuracy: 0.9990 - val_loss: 0.1420 - val_accuracy: 0.9698\n",
      "Epoch 24/30\n",
      "375/375 [==============================] - 1s 3ms/step - loss: 0.0185 - accuracy: 0.9933 - val_loss: 0.1373 - val_accuracy: 0.9701\n",
      "Epoch 25/30\n",
      "375/375 [==============================] - 1s 3ms/step - loss: 0.0051 - accuracy: 0.9987 - val_loss: 0.1286 - val_accuracy: 0.9713\n",
      "Epoch 26/30\n",
      "375/375 [==============================] - 2s 4ms/step - loss: 0.0024 - accuracy: 0.9997 - val_loss: 0.1217 - val_accuracy: 0.9734\n",
      "Epoch 27/30\n",
      "375/375 [==============================] - 1s 2ms/step - loss: 8.8595e-04 - accuracy: 1.0000 - val_loss: 0.1224 - val_accuracy: 0.9753\n",
      "Epoch 28/30\n",
      "375/375 [==============================] - 1s 3ms/step - loss: 6.2760e-04 - accuracy: 1.0000 - val_loss: 0.1224 - val_accuracy: 0.9742\n",
      "Epoch 29/30\n",
      "375/375 [==============================] - 2s 6ms/step - loss: 4.6240e-04 - accuracy: 1.0000 - val_loss: 0.1247 - val_accuracy: 0.9749\n",
      "Epoch 30/30\n",
      "375/375 [==============================] - 2s 6ms/step - loss: 3.9240e-04 - accuracy: 1.0000 - val_loss: 0.1253 - val_accuracy: 0.9749\n"
     ]
    },
    {
     "data": {
      "text/plain": [
       "<keras.callbacks.History at 0x16d813c4c40>"
      ]
     },
     "execution_count": 18,
     "metadata": {},
     "output_type": "execute_result"
    }
   ],
   "source": [
    "model2.compile(loss=\"sparse_categorical_crossentropy\", optimizer=\"adam\", metrics=[\"accuracy\"])\n",
    "model2.fit(X_train, y_train, batch_size=batch_size, epochs=epochs, validation_split=0.2)"
   ]
  },
  {
   "cell_type": "code",
   "execution_count": 19,
   "metadata": {},
   "outputs": [
    {
     "name": "stdout",
     "output_type": "stream",
     "text": [
      "313/313 [==============================] - 0s 1ms/step\n"
     ]
    }
   ],
   "source": [
    "y_probab = model2.predict(X_test)\n",
    "y_pred = np.argmax(y_probab, axis=1)"
   ]
  },
  {
   "cell_type": "code",
   "execution_count": 20,
   "metadata": {},
   "outputs": [
    {
     "name": "stdout",
     "output_type": "stream",
     "text": [
      "              precision    recall  f1-score   support\n",
      "\n",
      "           0       0.98      0.99      0.99       980\n",
      "           1       0.99      0.99      0.99      1135\n",
      "           2       0.97      0.97      0.97      1032\n",
      "           3       0.97      0.98      0.97      1010\n",
      "           4       0.98      0.97      0.98       982\n",
      "           5       0.97      0.98      0.97       892\n",
      "           6       0.98      0.98      0.98       958\n",
      "           7       0.97      0.97      0.97      1028\n",
      "           8       0.97      0.96      0.97       974\n",
      "           9       0.98      0.97      0.97      1009\n",
      "\n",
      "    accuracy                           0.98     10000\n",
      "   macro avg       0.98      0.98      0.98     10000\n",
      "weighted avg       0.98      0.98      0.98     10000\n",
      "\n",
      "[[ 970    1    1    1    1    1    3    0    2    0]\n",
      " [   0 1127    1    1    0    1    2    1    2    0]\n",
      " [   4    1 1001    4    1    1    2   10    7    1]\n",
      " [   0    0    3  989    0    6    0    5    4    3]\n",
      " [   0    0    2    1  955    1    7    4    3    9]\n",
      " [   2    0    0    8    1  870    3    0    6    2]\n",
      " [   5    3    0    1    5    6  936    0    2    0]\n",
      " [   2    3   12    4    1    0    0 1002    1    3]\n",
      " [   1    1    7    7    3    5    2    8  938    2]\n",
      " [   3    3    0    8    8    5    1    5    1  975]]\n"
     ]
    }
   ],
   "source": [
    "print(classification_report(y_test, y_pred))\n",
    "print(confusion_matrix(y_test, y_pred))"
   ]
  },
  {
   "attachments": {},
   "cell_type": "markdown",
   "metadata": {},
   "source": [
    "Sieć konwolucyjna"
   ]
  },
  {
   "cell_type": "code",
   "execution_count": 21,
   "metadata": {},
   "outputs": [],
   "source": [
    "model3 = keras.Sequential(\n",
    "        [\n",
    "            keras.Input(shape=input_shape),\n",
    "            layers.Conv2D(32, kernel_size=(3, 3), activation=\"relu\"),\n",
    "            layers.MaxPooling2D(pool_size=(2, 2)),\n",
    "            layers.Conv2D(64, kernel_size=(3, 3), activation=\"relu\"),\n",
    "            layers.MaxPooling2D(pool_size=(2, 2)),\n",
    "            layers.Flatten(),\n",
    "            layers.Dropout(0.5),\n",
    "            layers.Dense(num_classes, activation=\"softmax\"),\n",
    "        ]\n",
    "    )"
   ]
  },
  {
   "cell_type": "code",
   "execution_count": 22,
   "metadata": {},
   "outputs": [
    {
     "name": "stdout",
     "output_type": "stream",
     "text": [
      "Model: \"sequential_2\"\n",
      "_________________________________________________________________\n",
      " Layer (type)                Output Shape              Param #   \n",
      "=================================================================\n",
      " conv2d (Conv2D)             (None, 26, 26, 32)        320       \n",
      "                                                                 \n",
      " max_pooling2d (MaxPooling2D  (None, 13, 13, 32)       0         \n",
      " )                                                               \n",
      "                                                                 \n",
      " conv2d_1 (Conv2D)           (None, 11, 11, 64)        18496     \n",
      "                                                                 \n",
      " max_pooling2d_1 (MaxPooling  (None, 5, 5, 64)         0         \n",
      " 2D)                                                             \n",
      "                                                                 \n",
      " flatten_2 (Flatten)         (None, 1600)              0         \n",
      "                                                                 \n",
      " dropout (Dropout)           (None, 1600)              0         \n",
      "                                                                 \n",
      " dense_4 (Dense)             (None, 10)                16010     \n",
      "                                                                 \n",
      "=================================================================\n",
      "Total params: 34,826\n",
      "Trainable params: 34,826\n",
      "Non-trainable params: 0\n",
      "_________________________________________________________________\n"
     ]
    }
   ],
   "source": [
    "model3.summary()"
   ]
  },
  {
   "cell_type": "code",
   "execution_count": 23,
   "metadata": {},
   "outputs": [
    {
     "name": "stdout",
     "output_type": "stream",
     "text": [
      "Epoch 1/30\n",
      "375/375 [==============================] - 23s 58ms/step - loss: 0.3997 - accuracy: 0.8785 - val_loss: 0.1010 - val_accuracy: 0.9718\n",
      "Epoch 2/30\n",
      "375/375 [==============================] - 26s 69ms/step - loss: 0.1201 - accuracy: 0.9633 - val_loss: 0.0693 - val_accuracy: 0.9811\n",
      "Epoch 3/30\n",
      "375/375 [==============================] - 18s 48ms/step - loss: 0.0883 - accuracy: 0.9730 - val_loss: 0.0594 - val_accuracy: 0.9839\n",
      "Epoch 4/30\n",
      "375/375 [==============================] - 16s 44ms/step - loss: 0.0742 - accuracy: 0.9767 - val_loss: 0.0500 - val_accuracy: 0.9858\n",
      "Epoch 5/30\n",
      "375/375 [==============================] - 22s 59ms/step - loss: 0.0674 - accuracy: 0.9791 - val_loss: 0.0488 - val_accuracy: 0.9862\n",
      "Epoch 6/30\n",
      "375/375 [==============================] - 25s 66ms/step - loss: 0.0601 - accuracy: 0.9816 - val_loss: 0.0446 - val_accuracy: 0.9872\n",
      "Epoch 7/30\n",
      "375/375 [==============================] - 16s 42ms/step - loss: 0.0552 - accuracy: 0.9828 - val_loss: 0.0422 - val_accuracy: 0.9881\n",
      "Epoch 8/30\n",
      "375/375 [==============================] - 23s 62ms/step - loss: 0.0522 - accuracy: 0.9836 - val_loss: 0.0404 - val_accuracy: 0.9881\n",
      "Epoch 9/30\n",
      "375/375 [==============================] - 19s 51ms/step - loss: 0.0473 - accuracy: 0.9845 - val_loss: 0.0429 - val_accuracy: 0.9883\n",
      "Epoch 10/30\n",
      "375/375 [==============================] - 16s 41ms/step - loss: 0.0432 - accuracy: 0.9865 - val_loss: 0.0382 - val_accuracy: 0.9893\n",
      "Epoch 11/30\n",
      "375/375 [==============================] - 19s 50ms/step - loss: 0.0414 - accuracy: 0.9870 - val_loss: 0.0364 - val_accuracy: 0.9893\n",
      "Epoch 12/30\n",
      "375/375 [==============================] - 27s 72ms/step - loss: 0.0392 - accuracy: 0.9871 - val_loss: 0.0348 - val_accuracy: 0.9903\n",
      "Epoch 13/30\n",
      "375/375 [==============================] - 26s 70ms/step - loss: 0.0378 - accuracy: 0.9884 - val_loss: 0.0348 - val_accuracy: 0.9905\n",
      "Epoch 14/30\n",
      "375/375 [==============================] - 20s 54ms/step - loss: 0.0360 - accuracy: 0.9884 - val_loss: 0.0357 - val_accuracy: 0.9900\n",
      "Epoch 15/30\n",
      "375/375 [==============================] - 28s 75ms/step - loss: 0.0346 - accuracy: 0.9889 - val_loss: 0.0350 - val_accuracy: 0.9906\n",
      "Epoch 16/30\n",
      "375/375 [==============================] - 19s 50ms/step - loss: 0.0331 - accuracy: 0.9892 - val_loss: 0.0349 - val_accuracy: 0.9902\n",
      "Epoch 17/30\n",
      "375/375 [==============================] - 18s 48ms/step - loss: 0.0305 - accuracy: 0.9900 - val_loss: 0.0361 - val_accuracy: 0.9902\n",
      "Epoch 18/30\n",
      "375/375 [==============================] - 28s 75ms/step - loss: 0.0314 - accuracy: 0.9894 - val_loss: 0.0330 - val_accuracy: 0.9909\n",
      "Epoch 19/30\n",
      "375/375 [==============================] - 29s 77ms/step - loss: 0.0287 - accuracy: 0.9907 - val_loss: 0.0327 - val_accuracy: 0.9915\n",
      "Epoch 20/30\n",
      "375/375 [==============================] - 20s 52ms/step - loss: 0.0302 - accuracy: 0.9899 - val_loss: 0.0331 - val_accuracy: 0.9909\n",
      "Epoch 21/30\n",
      "375/375 [==============================] - 20s 54ms/step - loss: 0.0276 - accuracy: 0.9911 - val_loss: 0.0321 - val_accuracy: 0.9916\n",
      "Epoch 22/30\n",
      "375/375 [==============================] - 16s 42ms/step - loss: 0.0267 - accuracy: 0.9912 - val_loss: 0.0331 - val_accuracy: 0.9915\n",
      "Epoch 23/30\n",
      "375/375 [==============================] - 15s 39ms/step - loss: 0.0259 - accuracy: 0.9911 - val_loss: 0.0330 - val_accuracy: 0.9908\n",
      "Epoch 24/30\n",
      "375/375 [==============================] - 15s 40ms/step - loss: 0.0258 - accuracy: 0.9915 - val_loss: 0.0314 - val_accuracy: 0.9915\n",
      "Epoch 25/30\n",
      "375/375 [==============================] - 17s 44ms/step - loss: 0.0242 - accuracy: 0.9918 - val_loss: 0.0330 - val_accuracy: 0.9912\n",
      "Epoch 26/30\n",
      "375/375 [==============================] - 20s 53ms/step - loss: 0.0240 - accuracy: 0.9926 - val_loss: 0.0332 - val_accuracy: 0.9912\n",
      "Epoch 27/30\n",
      "375/375 [==============================] - 17s 44ms/step - loss: 0.0231 - accuracy: 0.9922 - val_loss: 0.0339 - val_accuracy: 0.9912\n",
      "Epoch 28/30\n",
      "375/375 [==============================] - 16s 43ms/step - loss: 0.0220 - accuracy: 0.9924 - val_loss: 0.0328 - val_accuracy: 0.9920\n",
      "Epoch 29/30\n",
      "375/375 [==============================] - 16s 41ms/step - loss: 0.0217 - accuracy: 0.9928 - val_loss: 0.0314 - val_accuracy: 0.9926\n",
      "Epoch 30/30\n",
      "375/375 [==============================] - 18s 49ms/step - loss: 0.0209 - accuracy: 0.9931 - val_loss: 0.0344 - val_accuracy: 0.9911\n"
     ]
    },
    {
     "data": {
      "text/plain": [
       "<keras.callbacks.History at 0x16d83560f70>"
      ]
     },
     "execution_count": 23,
     "metadata": {},
     "output_type": "execute_result"
    }
   ],
   "source": [
    "model3.compile(loss=\"sparse_categorical_crossentropy\", optimizer=\"adam\", metrics=[\"accuracy\"])\n",
    "model3.fit(X_train, y_train, batch_size=batch_size, epochs=epochs, validation_split=0.2)"
   ]
  },
  {
   "cell_type": "code",
   "execution_count": 24,
   "metadata": {},
   "outputs": [
    {
     "name": "stdout",
     "output_type": "stream",
     "text": [
      "313/313 [==============================] - 2s 5ms/step\n"
     ]
    }
   ],
   "source": [
    "y_probab = model3.predict(X_test)\n",
    "y_pred = np.argmax(y_probab, axis=1)"
   ]
  },
  {
   "cell_type": "code",
   "execution_count": 25,
   "metadata": {},
   "outputs": [
    {
     "name": "stdout",
     "output_type": "stream",
     "text": [
      "              precision    recall  f1-score   support\n",
      "\n",
      "           0       1.00      1.00      1.00       980\n",
      "           1       1.00      1.00      1.00      1135\n",
      "           2       0.99      0.99      0.99      1032\n",
      "           3       0.99      0.99      0.99      1010\n",
      "           4       0.99      0.99      0.99       982\n",
      "           5       0.99      0.99      0.99       892\n",
      "           6       0.99      0.99      0.99       958\n",
      "           7       0.99      0.99      0.99      1028\n",
      "           8       0.99      1.00      0.99       974\n",
      "           9       0.99      0.99      0.99      1009\n",
      "\n",
      "    accuracy                           0.99     10000\n",
      "   macro avg       0.99      0.99      0.99     10000\n",
      "weighted avg       0.99      0.99      0.99     10000\n",
      "\n",
      "[[ 976    0    1    0    1    0    0    1    1    0]\n",
      " [   0 1133    2    0    0    0    0    0    0    0]\n",
      " [   1    1 1020    0    1    0    2    6    1    0]\n",
      " [   0    0    2 1004    0    3    0    0    1    0]\n",
      " [   0    0    0    0  974    0    2    1    1    4]\n",
      " [   0    0    1    5    0  882    1    0    2    1]\n",
      " [   1    2    1    0    2    2  947    0    3    0]\n",
      " [   0    1    3    1    0    1    0 1021    1    0]\n",
      " [   1    0    1    0    0    0    0    1  970    1]\n",
      " [   0    0    0    0    3    4    1    4    1  996]]\n"
     ]
    }
   ],
   "source": [
    "print(classification_report(y_test, y_pred))\n",
    "print(confusion_matrix(y_test, y_pred))"
   ]
  },
  {
   "attachments": {},
   "cell_type": "markdown",
   "metadata": {},
   "source": [
    "Sieć konwolucyjna daje najlepsze wyniki ale czas jej wykonywania trwa bardzo długo. Natomiast sieć MLP ma znacznie krótdszy czas, a wyniki sa tylko nieznacznie gorsze."
   ]
  }
 ],
 "metadata": {
  "kernelspec": {
   "display_name": "Python 3",
   "language": "python",
   "name": "python3"
  },
  "language_info": {
   "codemirror_mode": {
    "name": "ipython",
    "version": 3
   },
   "file_extension": ".py",
   "mimetype": "text/x-python",
   "name": "python",
   "nbconvert_exporter": "python",
   "pygments_lexer": "ipython3",
   "version": "3.10.7"
  },
  "orig_nbformat": 4
 },
 "nbformat": 4,
 "nbformat_minor": 2
}
